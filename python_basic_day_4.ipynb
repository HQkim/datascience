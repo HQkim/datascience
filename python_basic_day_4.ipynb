{
 "cells": [
  {
   "cell_type": "code",
   "execution_count": 1,
   "metadata": {},
   "outputs": [],
   "source": [
    "%matplotlib qt5\n",
    "import numpy as np\n",
    "import seaborn\n",
    "import matplotlib.pyplot as plt\n",
    "import random"
   ]
  },
  {
   "cell_type": "code",
   "execution_count": 11,
   "metadata": {},
   "outputs": [],
   "source": [
    "a = [2,4,6]\n",
    "b = [1,2,3]\n",
    "plt.plot(a)\n",
    "plt.show()"
   ]
  },
  {
   "cell_type": "code",
   "execution_count": 13,
   "metadata": {},
   "outputs": [
    {
     "name": "stdout",
     "output_type": "stream",
     "text": [
      "[0.03272714 0.42128087 0.67570963 0.63911802 0.16477061]\n",
      "<class 'numpy.ndarray'>\n"
     ]
    }
   ],
   "source": [
    "a = np.random.rand(5)\n",
    "print(a)\n",
    "print(type(a))"
   ]
  },
  {
   "cell_type": "code",
   "execution_count": 20,
   "metadata": {},
   "outputs": [
    {
     "data": {
      "text/plain": [
       "array([0, 1, 2])"
      ]
     },
     "execution_count": 20,
     "metadata": {},
     "output_type": "execute_result"
    }
   ],
   "source": [
    "np.random.choice(3,3, replace=False)"
   ]
  },
  {
   "cell_type": "code",
   "execution_count": 33,
   "metadata": {},
   "outputs": [],
   "source": [
    "plt.scatter([1,2,3,4], [10,30,20,40], s=[50,100,250,400], c=range(4), cmap=\"gist_ncar\")\n",
    "plt.colorbar()\n",
    "plt.show()"
   ]
  },
  {
   "cell_type": "code",
   "execution_count": 37,
   "metadata": {},
   "outputs": [],
   "source": [
    "x = []\n",
    "y = []\n",
    "size = []\n",
    "for i in range(100):\n",
    "    x.append(random.randint(50,100))\n",
    "    y.append(random.randint(50,100))\n",
    "    size.append(random.randint(10,100))\n",
    "plt.style.use('ggplot')\n",
    "\n",
    "plt.scatter(x, y, s = size, c = size, cmap = \"jet\", alpha = 0.6)\n",
    "plt.colorbar()\n",
    "\n",
    "plt.show()"
   ]
  },
  {
   "cell_type": "code",
   "execution_count": 49,
   "metadata": {},
   "outputs": [
    {
     "name": "stdout",
     "output_type": "stream",
     "text": [
      "[5 3 4 3 3 2 1 2 2 2]\n"
     ]
    }
   ],
   "source": [
    "print(np.random.choice(6,10,p=[0.1,0.2,0.3,0.2,0.1,0.1]))"
   ]
  },
  {
   "cell_type": "code",
   "execution_count": 54,
   "metadata": {},
   "outputs": [],
   "source": [
    "dice = np.random.choice(6, 100000, p =[0.1,0.2,0.3,0.2,0.1,0.1])\n",
    "plt.hist(dice, bins = 6)\n",
    "plt.show()"
   ]
  },
  {
   "cell_type": "code",
   "execution_count": 55,
   "metadata": {},
   "outputs": [
    {
     "name": "stdout",
     "output_type": "stream",
     "text": [
      "[-3.14159265 -2.82743339 -2.51327412 -2.19911486 -1.88495559 -1.57079633\n",
      " -1.25663706 -0.9424778  -0.62831853 -0.31415927  0.          0.31415927\n",
      "  0.62831853  0.9424778   1.25663706  1.57079633  1.88495559  2.19911486\n",
      "  2.51327412  2.82743339  3.14159265]\n"
     ]
    }
   ],
   "source": [
    "a = np.linspace(-np.pi, np.pi, 21)\n",
    "print(a)"
   ]
  },
  {
   "cell_type": "code",
   "execution_count": 60,
   "metadata": {},
   "outputs": [
    {
     "data": {
      "text/plain": [
       "[1, 4, 9]"
      ]
     },
     "execution_count": 60,
     "metadata": {},
     "output_type": "execute_result"
    }
   ],
   "source": [
    "a = [1, 2, 3]\n",
    "list(map(lambda x : x**2, a))"
   ]
  },
  {
   "cell_type": "code",
   "execution_count": 73,
   "metadata": {},
   "outputs": [
    {
     "data": {
      "text/plain": [
       "array([[1, 0, 0],\n",
       "       [0, 1, 0],\n",
       "       [0, 0, 1],\n",
       "       [0, 0, 0],\n",
       "       [0, 0, 0]])"
      ]
     },
     "execution_count": 73,
     "metadata": {},
     "output_type": "execute_result"
    }
   ],
   "source": [
    "np.eye(5, M = 3, dtype=int)"
   ]
  },
  {
   "cell_type": "code",
   "execution_count": 110,
   "metadata": {},
   "outputs": [
    {
     "data": {
      "text/plain": [
       "array([8, 8, 4, 2, 4, 3, 3, 5, 6, 1, 4, 8, 3, 9, 1, 5, 9, 1, 2, 8, 6, 7,\n",
       "       1, 3, 3, 3, 9, 9, 4, 4, 3, 9, 6, 1, 6, 5, 2, 4, 8, 5, 2, 3, 7, 7,\n",
       "       6, 3, 9, 9, 5, 2, 7, 4, 4, 1, 1, 6, 8, 7, 4, 8, 2, 2, 6, 3, 8, 7,\n",
       "       2, 5, 4, 8, 1, 9, 8, 6, 5, 4, 9, 3, 8, 6, 9, 3, 2, 7, 5, 5, 4, 5,\n",
       "       7, 3, 9, 9, 2, 8, 1, 6, 5, 4, 6, 2, 1, 8, 8, 8, 4, 3, 7, 7, 5, 6,\n",
       "       9, 5, 3, 1, 4, 7, 9, 8, 6, 9, 7, 6, 3, 1, 1, 8, 1, 5, 2, 7, 2, 7,\n",
       "       1, 2, 1, 5, 5, 7, 4, 1, 2, 6, 9, 5, 6, 4, 3, 8, 1, 8, 1, 6, 5, 7,\n",
       "       5, 8, 4, 6, 9, 2, 7, 3, 3, 5, 4, 9, 1, 9, 4, 5, 7, 8, 9, 7, 9, 8,\n",
       "       1, 5, 6, 6, 7, 9, 1, 5, 2, 4, 3, 6, 3, 3, 4, 1, 8, 4, 7, 6, 9, 6,\n",
       "       4, 1, 1, 4, 7, 3, 4, 4, 1, 3, 2, 7, 1, 1, 7, 1, 5, 1, 9, 8, 6, 4,\n",
       "       4, 6, 5, 4, 7, 9, 3, 8, 1, 5, 5, 1, 6, 5, 7, 4, 1, 5, 9, 8, 3, 3,\n",
       "       2, 8, 9, 3, 2, 6, 9, 4, 1, 8, 2, 8, 5, 3, 4, 3, 8, 4, 6, 2, 2, 5,\n",
       "       5, 2, 7, 3, 1, 4, 6, 9, 1, 9, 1, 9, 9, 5, 3, 5, 4, 1, 4, 6, 6, 4,\n",
       "       1, 2, 1, 9, 8, 3, 5, 4, 9, 2, 8, 9, 2, 4, 9, 4, 9, 5, 4, 5, 7, 1,\n",
       "       8, 5, 1, 8, 8, 2, 4, 4, 7, 3, 5, 9, 7, 1, 5, 9, 4, 9, 3, 8, 5, 4,\n",
       "       2, 3, 3, 2, 2, 1, 9, 6, 2, 2, 2, 3, 9, 2, 3, 2, 2, 6, 3, 9, 8, 5,\n",
       "       5, 7, 8, 7, 5, 4, 5, 3, 8, 3, 1, 9, 9, 3, 9, 6, 9, 2, 8, 4, 1, 1,\n",
       "       3, 7, 5, 4, 3, 1, 2, 9, 5, 8, 5, 5, 5, 9, 4, 1, 8, 8, 3, 8, 9, 1,\n",
       "       3, 6, 2, 2, 5, 5, 3, 5, 6, 1, 9, 6, 5, 4, 8, 3, 8, 9, 6, 2, 2, 1,\n",
       "       8, 9, 5, 3, 5, 2, 3, 8, 4, 3, 6, 8, 3, 3, 5, 1, 9, 2, 7, 8, 9, 1,\n",
       "       1, 4, 9, 9, 1, 9, 1, 7, 1, 3, 9, 3, 4, 7, 1, 1, 2, 3, 6, 7, 2, 7,\n",
       "       1, 7, 6, 4, 5, 1, 3, 8, 1, 4, 2, 1, 3, 4, 6, 9, 9, 3, 9, 9, 4, 3,\n",
       "       4, 2, 9, 7, 2, 7, 5, 1, 4, 7, 5, 5, 9, 1, 3, 4, 9, 5, 8, 3, 9, 3,\n",
       "       7, 2, 7, 8, 6, 7, 8, 5, 5, 1, 9, 8, 6, 2, 3, 8, 1, 9, 3, 5, 3, 3,\n",
       "       1, 6, 4, 6, 6, 8, 4, 3, 7, 6, 5, 9, 8, 9, 6, 6, 1, 8, 9, 9, 7, 1,\n",
       "       7, 9, 5, 2, 2, 4, 4, 3, 1, 4, 1, 8, 9, 4, 5, 3, 2, 1, 9, 3, 7, 9,\n",
       "       4, 6, 1, 9, 3, 6, 9, 8, 1, 7, 3, 9, 6, 4, 1, 7, 9, 5, 5, 5, 7, 5,\n",
       "       5, 1, 4, 4, 8, 2, 3, 4, 6, 7, 2, 2, 9, 7, 7, 9, 8, 8, 2, 4, 7, 9,\n",
       "       1, 4, 1, 5, 2, 9, 6, 7, 1, 7, 6, 1, 8, 9, 7, 4, 3, 6, 5, 6, 9, 7,\n",
       "       1, 7, 4, 8, 9, 9, 4, 5, 9, 5, 9, 7, 6, 7, 5, 3, 7, 8, 6, 3, 8, 1,\n",
       "       3, 1, 5, 5, 1, 9, 7, 8, 3, 1, 8, 2, 8, 4, 6, 8, 1, 7, 3, 5, 6, 4,\n",
       "       9, 4, 4, 3, 3, 6, 6, 8, 8, 3, 4, 8, 9, 4, 9, 8, 2, 3, 7, 5, 1, 8,\n",
       "       9, 7, 4, 1, 3, 9, 9, 3, 6, 7, 6, 5, 8, 8, 4, 4, 6, 7, 2, 1, 9, 7,\n",
       "       8, 1, 2, 3, 1, 8, 7, 9, 1, 8, 5, 3, 8, 3, 6, 6, 5, 4, 6, 8, 1, 6,\n",
       "       9, 9, 9, 6, 7, 1, 7, 5, 8, 3, 3, 2, 6, 8, 8, 7, 7, 7, 5, 3, 2, 3,\n",
       "       3, 8, 1, 4, 5, 6, 1, 3, 1, 6, 6, 1, 2, 3, 8, 5, 7, 2, 6, 5, 5, 2,\n",
       "       3, 6, 7, 3, 4, 1, 5, 6, 8, 8, 1, 6, 3, 6, 1, 9, 6, 8, 7, 1, 5, 8,\n",
       "       7, 1, 5, 6, 3, 4, 7, 7, 3, 7, 5, 5, 4, 6, 5, 6, 4, 5, 4, 3, 4, 1,\n",
       "       8, 9, 6, 7, 4, 7, 5, 4, 1, 1, 6, 4, 7, 2, 7, 8, 8, 3, 5, 9, 9, 9,\n",
       "       3, 7, 2, 7, 7, 2, 2, 9, 8, 6, 7, 7, 1, 3, 8, 8, 4, 2, 6, 3, 9, 7,\n",
       "       5, 1, 5, 1, 4, 9, 9, 6, 6, 6, 6, 5, 1, 7, 1, 7, 6, 4, 9, 6, 6, 9,\n",
       "       4, 7, 3, 7, 3, 7, 7, 2, 5, 8, 3, 2, 4, 7, 3, 8, 2, 5, 5, 6, 2, 4,\n",
       "       8, 1, 4, 1, 2, 8, 9, 3, 2, 5, 5, 2, 4, 5, 7, 7, 5, 4, 7, 1, 3, 2,\n",
       "       6, 1, 8, 1, 3, 6, 5, 8, 5, 5, 9, 3, 8, 6, 7, 5, 7, 7, 6, 4, 5, 7,\n",
       "       9, 7, 4, 3, 6, 3, 7, 5, 3, 8, 7, 1, 1, 4, 9, 9, 1, 7, 4, 6, 7, 5,\n",
       "       2, 6, 7, 2, 7, 2, 3, 4, 8, 4])"
      ]
     },
     "execution_count": 110,
     "metadata": {},
     "output_type": "execute_result"
    }
   ],
   "source": [
    "np.random.randint(1,10,1000)"
   ]
  },
  {
   "cell_type": "code",
   "execution_count": 94,
   "metadata": {},
   "outputs": [
    {
     "name": "stdout",
     "output_type": "stream",
     "text": [
      "767 767 767\n"
     ]
    }
   ],
   "source": [
    "x = np.random.randint(-100, 100, 1000)\n",
    "y = np.random.randint(-100, 100, 1000)\n",
    "mask1 = abs(x) > 50\n",
    "mask2 = abs(y) > 50\n",
    "x = x[mask1 + mask2]\n",
    "y = y[mask1 + mask2]\n",
    "size = np.random.rand(len(x)) * 100\n",
    "print(len(x), len(y), len(size))\n",
    "plt.scatter(x, y, s = size, c = x, cmap='jet', alpha = 0.7)\n",
    "\n",
    "plt.show()"
   ]
  },
  {
   "cell_type": "code",
   "execution_count": 60,
   "metadata": {},
   "outputs": [
    {
     "name": "stdout",
     "output_type": "stream",
     "text": [
      "101\n"
     ]
    }
   ],
   "source": [
    "import csv\n",
    "f = open('age.csv')\n",
    "data = csv.reader(f)\n",
    "\n",
    "data = list(data)\n",
    "\n",
    "seoul = data[1]\n",
    "myarea = []\n",
    "yourarea = [] # 진관동\n",
    "\n",
    "for row in data:\n",
    "    if \"남가좌제1동\" in row[0]:\n",
    "        for i in range(3, len(row)):\n",
    "            myarea.append(int(row[i]))\n",
    "\n",
    "for row in data:\n",
    "    if \"진관동\" in row[0]:\n",
    "        for i in range(3, len(row)):\n",
    "            number = str(row[i])\n",
    "            number = number.replace(\",\",\"\")\n",
    "            yourarea.append(int(number))\n",
    "            \n",
    "            \n",
    "age = list(range(0,101))\n",
    "result = []\n",
    "for i in range(3, len(seoul)):\n",
    "    number = seoul[i]\n",
    "    number = number.replace(\",\",\"\")\n",
    "    result.append(int(number))\n",
    "\n",
    "print(len(myarea))\n",
    "    \n",
    "# plt.scatter(age,result, s = 0.5)\n",
    "plt.plot(age, myarea)\n",
    "plt.plot(age, yourarea)\n",
    "plt.show()\n",
    "\n",
    "f.close()\n"
   ]
  },
  {
   "cell_type": "code",
   "execution_count": 44,
   "metadata": {},
   "outputs": [
    {
     "data": {
      "text/plain": [
       "'acd'"
      ]
     },
     "execution_count": 44,
     "metadata": {},
     "output_type": "execute_result"
    }
   ],
   "source": [
    "a = \"abcd\"\n",
    "a.replace(\"b\",\"\")"
   ]
  },
  {
   "cell_type": "code",
   "execution_count": 69,
   "metadata": {},
   "outputs": [
    {
     "name": "stdout",
     "output_type": "stream",
     "text": [
      "인구 구조를 알고 싶은 지역의 이름 또는 지역 코드를 입력하세요!!\n",
      "남가좌제1동\n"
     ]
    }
   ],
   "source": [
    "import csv\n",
    "f = open('age.csv')\n",
    "data = csv.reader(f)\n",
    "result = []\n",
    "name = input(\"인구 구조를 알고 싶은 지역의 이름 또는 지역 코드를 입력하세요!!\\n\")\n",
    "\n",
    "for row in data:\n",
    "    if name in row[0]:\n",
    "        for i in row[3:]:\n",
    "            i = i.replace(\",\",\"\")\n",
    "            result.append(int(i))\n",
    "            \n",
    "plt.style.use('ggplot')\n",
    "plt.rc('font', family=\"Malgun Gothic\")\n",
    "plt.title(name + \"지역의 인구 구조\")\n",
    "# plt.plot(result)\n",
    "plt.barh(range(101), result)\n",
    "plt.show()\n",
    "\n",
    "f.close()"
   ]
  }
 ],
 "metadata": {
  "kernelspec": {
   "display_name": "Python 3",
   "language": "python",
   "name": "python3"
  },
  "language_info": {
   "codemirror_mode": {
    "name": "ipython",
    "version": 3
   },
   "file_extension": ".py",
   "mimetype": "text/x-python",
   "name": "python",
   "nbconvert_exporter": "python",
   "pygments_lexer": "ipython3",
   "version": "3.8.5"
  }
 },
 "nbformat": 4,
 "nbformat_minor": 4
}
