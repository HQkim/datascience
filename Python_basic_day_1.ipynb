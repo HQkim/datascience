{
 "cells": [
  {
   "cell_type": "code",
   "execution_count": 3,
   "metadata": {},
   "outputs": [
    {
     "data": {
      "text/plain": [
       "'g'"
      ]
     },
     "execution_count": 3,
     "metadata": {},
     "output_type": "execute_result"
    }
   ],
   "source": [
    "a= \"abcgdef\"\n",
    "max(a)"
   ]
  },
  {
   "cell_type": "code",
   "execution_count": 5,
   "metadata": {},
   "outputs": [
    {
     "name": "stdout",
     "output_type": "stream",
     "text": [
      "I have some c,a,,and b\n"
     ]
    }
   ],
   "source": [
    "txt = \"I have some {2},{0},and {1}\"\n",
    "print(txt.format(\"a,\",'b','c'))"
   ]
  },
  {
   "cell_type": "code",
   "execution_count": 6,
   "metadata": {},
   "outputs": [
    {
     "name": "stdout",
     "output_type": "stream",
     "text": [
      "True\n"
     ]
    }
   ],
   "source": [
    "print(not \"\")"
   ]
  },
  {
   "cell_type": "markdown",
   "metadata": {},
   "source": []
  },
  {
   "cell_type": "code",
   "execution_count": 7,
   "metadata": {},
   "outputs": [
    {
     "name": "stdout",
     "output_type": "stream",
     "text": [
      "() <class 'tuple'>\n",
      "('group',) <class 'tuple'> group <class 'str'>\n"
     ]
    }
   ],
   "source": [
    "empty_tuple =()\n",
    "print(empty_tuple, type(empty_tuple))\n",
    "one_mark = ('group',)\n",
    "test = ('group')\n",
    "print(one_mark, type(one_mark), test, type(test))"
   ]
  },
  {
   "cell_type": "code",
   "execution_count": 8,
   "metadata": {},
   "outputs": [
    {
     "name": "stdout",
     "output_type": "stream",
     "text": [
      "('grou1',) <class 'tuple'>\n",
      "('a', 'b', 'c') <class 'tuple'>\n"
     ]
    }
   ],
   "source": [
    "one_marx = 'grou1',\n",
    "print(one_marx, type(one_marx))\n",
    "\n",
    "mul_marx = 'a', 'b', 'c'\n",
    "print(mul_marx, type(mul_marx))"
   ]
  },
  {
   "cell_type": "code",
   "execution_count": 11,
   "metadata": {},
   "outputs": [
    {
     "name": "stdout",
     "output_type": "stream",
     "text": [
      "True False\n",
      "True True\n"
     ]
    }
   ],
   "source": [
    "a = (1,2)\n",
    "b = (1,2)\n",
    "c = a\n",
    "print(a == b, a is b)\n",
    "print(c == a , c is a)"
   ]
  },
  {
   "cell_type": "code",
   "execution_count": 14,
   "metadata": {},
   "outputs": [
    {
     "name": "stdout",
     "output_type": "stream",
     "text": [
      "abc\n",
      "Abc\n"
     ]
    }
   ],
   "source": [
    "a =\"ABc\"\n",
    "print(a.casefold())\n",
    "print(a.capitalize())"
   ]
  },
  {
   "cell_type": "code",
   "execution_count": 15,
   "metadata": {},
   "outputs": [],
   "source": [
    "a = range(10)"
   ]
  },
  {
   "cell_type": "code",
   "execution_count": 16,
   "metadata": {},
   "outputs": [
    {
     "name": "stdout",
     "output_type": "stream",
     "text": [
      "range(0, 10)\n"
     ]
    }
   ],
   "source": [
    "print(a)"
   ]
  },
  {
   "cell_type": "code",
   "execution_count": 17,
   "metadata": {},
   "outputs": [
    {
     "name": "stdout",
     "output_type": "stream",
     "text": [
      "[0, 1, 2, 3, 4, 5, 6, 7, 8, 9]\n"
     ]
    }
   ],
   "source": [
    "a= list(range(10))\n",
    "print(a)"
   ]
  },
  {
   "cell_type": "code",
   "execution_count": 23,
   "metadata": {},
   "outputs": [
    {
     "name": "stdout",
     "output_type": "stream",
     "text": [
      "[5, 6, 7, 8]\n"
     ]
    }
   ],
   "source": [
    "print(a[-5:-1])\n"
   ]
  },
  {
   "cell_type": "code",
   "execution_count": 28,
   "metadata": {},
   "outputs": [
    {
     "name": "stdout",
     "output_type": "stream",
     "text": [
      "[2, 2, 3]\n",
      "[2, 2, 3]\n",
      "True\n"
     ]
    }
   ],
   "source": [
    "a = [1,2,3]\n",
    "b = a\n",
    "a[0] = 2\n",
    "print(a)\n",
    "print(b)\n",
    "print(a is b)"
   ]
  },
  {
   "cell_type": "code",
   "execution_count": 72,
   "metadata": {},
   "outputs": [
    {
     "name": "stdout",
     "output_type": "stream",
     "text": [
      "23.03875236294896\n",
      "과체중 입니다.\n"
     ]
    }
   ],
   "source": [
    "height = 184\n",
    "weight = 78\n",
    "\n",
    "height_m = height / 100\n",
    "BMI = weight / height_m**2\n",
    "print(BMI)\n",
    "\n",
    "if BMI <= 18.5:\n",
    "    print(\"저체중 입니다.\")\n",
    "elif (BMI > 18.5) & (BMI <= 22.9):\n",
    "    print(\"정상체중 입니다.\")\n",
    "elif (BMI > 22.9) & (BMI <= 24.9):\n",
    "    print(\"과체중 입니다.\")\n",
    "elif (BMI > 24.9) & (BMI <= 29.9):\n",
    "    print(\"비만 입니다.\")\n",
    "elif (BMI >= 30) & (BMI <= 39.9):\n",
    "    print(\"고도비만 입니다.\")"
   ]
  },
  {
   "cell_type": "code",
   "execution_count": 73,
   "metadata": {},
   "outputs": [
    {
     "name": "stdout",
     "output_type": "stream",
     "text": [
      "과체중 입니다.\n"
     ]
    }
   ],
   "source": [
    "if BMI <= 18.5:\n",
    "    print(\"저체중 입니다.\")\n",
    "elif BMI <= 22.9:\n",
    "    print(\"정상체중 입니다.\")\n",
    "elif BMI <= 24.9:\n",
    "    print(\"과체중 입니다.\")\n",
    "elif BMI <= 29.9:\n",
    "    print(\"비만 입니다.\")\n",
    "elif BMI <= 39.9:\n",
    "    print(\"고도비만 입니다.\")"
   ]
  },
  {
   "cell_type": "code",
   "execution_count": 65,
   "metadata": {},
   "outputs": [
    {
     "name": "stdout",
     "output_type": "stream",
     "text": [
      "[2, 1]\n"
     ]
    }
   ],
   "source": [
    "a = [1, 2, 1]\n",
    "a.remove(1)\n",
    "print(a)"
   ]
  },
  {
   "cell_type": "code",
   "execution_count": 68,
   "metadata": {},
   "outputs": [
    {
     "name": "stdout",
     "output_type": "stream",
     "text": [
      "True\n",
      "False\n",
      "False\n"
     ]
    }
   ],
   "source": [
    "a = [1, 2]\n",
    "b = a\n",
    "c = a[:]\n",
    "d = a.copy()\n",
    "print(b is a )\n",
    "print(c is a )\n",
    "print(d is a )"
   ]
  },
  {
   "cell_type": "code",
   "execution_count": 84,
   "metadata": {},
   "outputs": [
    {
     "name": "stdout",
     "output_type": "stream",
     "text": [
      "{'color': [1, 2, 3], 'points': {'a': 1}}\n",
      "1\n"
     ]
    }
   ],
   "source": [
    "alien ={'color': [1,2,3], 'points': {'a': 1}}\n",
    "print(alien)\n",
    "\n",
    "print(alien['points']['a'])"
   ]
  },
  {
   "cell_type": "code",
   "execution_count": 91,
   "metadata": {},
   "outputs": [
    {
     "name": "stdout",
     "output_type": "stream",
     "text": [
      "13665\n"
     ]
    }
   ],
   "source": [
    "def vat_calc(price, vat_pct):\n",
    "    result = price * (1 + vat_pct * 0.01)\n",
    "    return int(result)\n",
    "\n",
    "price = 12300\n",
    "vat_pct = 11.1\n",
    "print(vat_calc(price, vat_pct))"
   ]
  },
  {
   "cell_type": "code",
   "execution_count": 93,
   "metadata": {},
   "outputs": [
    {
     "name": "stdout",
     "output_type": "stream",
     "text": [
      "11\n"
     ]
    }
   ],
   "source": [
    "print(int(11.6))"
   ]
  },
  {
   "cell_type": "code",
   "execution_count": null,
   "metadata": {},
   "outputs": [],
   "source": []
  },
  {
   "cell_type": "code",
   "execution_count": 104,
   "metadata": {},
   "outputs": [],
   "source": [
    "def simpleCalc(mode, a, b):\n",
    "    try:\n",
    "        if mode == \"add\":\n",
    "            result = a + b\n",
    "        elif mode == \"substraction\":\n",
    "            result = a - b\n",
    "        elif mode == \"multiply\":\n",
    "            result = a * b\n",
    "        elif mode == \"dividing\":\n",
    "            result = a / b\n",
    "        \n",
    "        return result\n",
    "    except (UnboundLocalError, ZeroDivisionError) as err:\n",
    "        print(err)"
   ]
  },
  {
   "cell_type": "code",
   "execution_count": 107,
   "metadata": {},
   "outputs": [
    {
     "name": "stdout",
     "output_type": "stream",
     "text": [
      "division by zero\n"
     ]
    }
   ],
   "source": [
    "simpleCalc(\"dividing\", 10, 0)"
   ]
  },
  {
   "cell_type": "code",
   "execution_count": 108,
   "metadata": {},
   "outputs": [
    {
     "name": "stdout",
     "output_type": "stream",
     "text": [
      "[Errno 2] No such file or directory: 'c://user/document/untitled.pdf'\n"
     ]
    }
   ],
   "source": [
    "try:\n",
    "    f = open(\"c://user/document/untitled.pdf\", \"r\")\n",
    "except FileNotFoundError as e:\n",
    "    print(e)"
   ]
  },
  {
   "cell_type": "code",
   "execution_count": null,
   "metadata": {},
   "outputs": [],
   "source": []
  }
 ],
 "metadata": {
  "kernelspec": {
   "display_name": "Python 3",
   "language": "python",
   "name": "python3"
  },
  "language_info": {
   "codemirror_mode": {
    "name": "ipython",
    "version": 3
   },
   "file_extension": ".py",
   "mimetype": "text/x-python",
   "name": "python",
   "nbconvert_exporter": "python",
   "pygments_lexer": "ipython3",
   "version": "3.8.5"
  }
 },
 "nbformat": 4,
 "nbformat_minor": 4
}
